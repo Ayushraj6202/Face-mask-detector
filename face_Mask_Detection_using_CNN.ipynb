{
  "nbformat": 4,
  "nbformat_minor": 0,
  "metadata": {
    "colab": {
      "provenance": [],
      "gpuType": "T4"
    },
    "kernelspec": {
      "name": "python3",
      "display_name": "Python 3"
    },
    "language_info": {
      "name": "python"
    },
    "accelerator": "GPU"
  },
  "cells": [
    {
      "cell_type": "code",
      "execution_count": 2,
      "metadata": {
        "colab": {
          "base_uri": "https://localhost:8080/"
        },
        "id": "N_CLqBul-P73",
        "outputId": "79603c19-a5b9-47be-e709-bf85e15f01d2"
      },
      "outputs": [
        {
          "output_type": "stream",
          "name": "stdout",
          "text": [
            "Requirement already satisfied: kaggle in /usr/local/lib/python3.10/dist-packages (1.6.14)\n",
            "Requirement already satisfied: six>=1.10 in /usr/local/lib/python3.10/dist-packages (from kaggle) (1.16.0)\n",
            "Requirement already satisfied: certifi>=2023.7.22 in /usr/local/lib/python3.10/dist-packages (from kaggle) (2024.6.2)\n",
            "Requirement already satisfied: python-dateutil in /usr/local/lib/python3.10/dist-packages (from kaggle) (2.8.2)\n",
            "Requirement already satisfied: requests in /usr/local/lib/python3.10/dist-packages (from kaggle) (2.31.0)\n",
            "Requirement already satisfied: tqdm in /usr/local/lib/python3.10/dist-packages (from kaggle) (4.66.4)\n",
            "Requirement already satisfied: python-slugify in /usr/local/lib/python3.10/dist-packages (from kaggle) (8.0.4)\n",
            "Requirement already satisfied: urllib3 in /usr/local/lib/python3.10/dist-packages (from kaggle) (2.0.7)\n",
            "Requirement already satisfied: bleach in /usr/local/lib/python3.10/dist-packages (from kaggle) (6.1.0)\n",
            "Requirement already satisfied: webencodings in /usr/local/lib/python3.10/dist-packages (from bleach->kaggle) (0.5.1)\n",
            "Requirement already satisfied: text-unidecode>=1.3 in /usr/local/lib/python3.10/dist-packages (from python-slugify->kaggle) (1.3)\n",
            "Requirement already satisfied: charset-normalizer<4,>=2 in /usr/local/lib/python3.10/dist-packages (from requests->kaggle) (3.3.2)\n",
            "Requirement already satisfied: idna<4,>=2.5 in /usr/local/lib/python3.10/dist-packages (from requests->kaggle) (3.7)\n"
          ]
        }
      ],
      "source": [
        "!pip install kaggle"
      ]
    },
    {
      "cell_type": "code",
      "source": [
        "# configuring the path of Kaggle.json file\n",
        "!mkdir -p ~/.kaggle\n",
        "!cp kaggle.json ~/.kaggle/\n",
        "!chmod 600 ~/.kaggle/kaggle.json"
      ],
      "metadata": {
        "id": "O_r4NfUt-nQn",
        "colab": {
          "base_uri": "https://localhost:8080/"
        },
        "outputId": "6f9a4014-464d-4e1e-da36-cabd827f4978"
      },
      "execution_count": 3,
      "outputs": [
        {
          "output_type": "stream",
          "name": "stdout",
          "text": [
            "cp: cannot stat 'kaggle.json': No such file or directory\n",
            "chmod: cannot access '/root/.kaggle/kaggle.json': No such file or directory\n"
          ]
        }
      ]
    },
    {
      "cell_type": "markdown",
      "source": [
        "Importing Face Mask Dataset"
      ],
      "metadata": {
        "id": "1WQ0q_5mOiqj"
      }
    },
    {
      "cell_type": "code",
      "source": [
        "# API to fetch the dataset from Kaggle\n",
        "!kaggle datasets download -d omkargurav/face-mask-dataset"
      ],
      "metadata": {
        "colab": {
          "base_uri": "https://localhost:8080/"
        },
        "id": "GRuZtxBmOf1Y",
        "outputId": "82a3e628-1ce5-418d-9df2-11e307c464e8"
      },
      "execution_count": 4,
      "outputs": [
        {
          "output_type": "stream",
          "name": "stdout",
          "text": [
            "Dataset URL: https://www.kaggle.com/datasets/omkargurav/face-mask-dataset\n",
            "License(s): unknown\n",
            "Downloading face-mask-dataset.zip to /content\n",
            " 89% 145M/163M [00:01<00:00, 91.9MB/s]\n",
            "100% 163M/163M [00:01<00:00, 107MB/s] \n"
          ]
        }
      ]
    },
    {
      "cell_type": "code",
      "source": [
        "# extracting the compessed Dataset\n",
        "from zipfile import ZipFile\n",
        "dataset = '/content/face-mask-dataset.zip'\n",
        "\n",
        "with ZipFile(dataset,'r') as zip:\n",
        "  zip.extractall()\n",
        "  print('The dataset is extracted')"
      ],
      "metadata": {
        "colab": {
          "base_uri": "https://localhost:8080/"
        },
        "id": "STZzd8ghOuE0",
        "outputId": "22527103-ce54-4401-e706-b79de28b902d"
      },
      "execution_count": 5,
      "outputs": [
        {
          "output_type": "stream",
          "name": "stdout",
          "text": [
            "The dataset is extracted\n"
          ]
        }
      ]
    },
    {
      "cell_type": "markdown",
      "source": [
        "**Importing the Dependencies**"
      ],
      "metadata": {
        "id": "MKIrkEC5zrjA"
      }
    },
    {
      "cell_type": "code",
      "source": [
        "import os\n",
        "import numpy as np\n",
        "import matplotlib.pyplot as plt\n",
        "import matplotlib.image as mpimg\n",
        "import cv2\n",
        "from google.colab.patches import cv2_imshow\n",
        "from PIL import Image\n",
        "from sklearn.model_selection import train_test_split"
      ],
      "metadata": {
        "id": "yEUQCcZPzlfo"
      },
      "execution_count": 2,
      "outputs": []
    },
    {
      "cell_type": "code",
      "source": [
        "with_mask_files = os.listdir('/content/data/with_mask')\n",
        "print(with_mask_files[0:5])\n",
        "print(with_mask_files[-5:])"
      ],
      "metadata": {
        "colab": {
          "base_uri": "https://localhost:8080/"
        },
        "id": "i4xGbBHq0PSo",
        "outputId": "169b9968-8bd9-45f2-b55b-4d83060f2517"
      },
      "execution_count": 3,
      "outputs": [
        {
          "output_type": "stream",
          "name": "stdout",
          "text": [
            "['with_mask_1919.jpg', 'with_mask_108.jpg', 'with_mask_1344.jpg', 'with_mask_1156.jpg', 'with_mask_916.jpg']\n",
            "['with_mask_3157.jpg', 'with_mask_3162.jpg', 'with_mask_3273.jpg', 'with_mask_183.jpg', 'with_mask_712.jpg']\n"
          ]
        }
      ]
    },
    {
      "cell_type": "code",
      "source": [
        "without_mask_files = os.listdir('/content/data/without_mask')\n",
        "print(without_mask_files[0:5])\n",
        "print(without_mask_files[-5:])"
      ],
      "metadata": {
        "colab": {
          "base_uri": "https://localhost:8080/"
        },
        "id": "K_q6sypb0mqK",
        "outputId": "139a023c-e7de-4e75-ebc8-389ed0baa00f"
      },
      "execution_count": 4,
      "outputs": [
        {
          "output_type": "stream",
          "name": "stdout",
          "text": [
            "['without_mask_1777.jpg', 'without_mask_3038.jpg', 'without_mask_2116.jpg', 'without_mask_3584.jpg', 'without_mask_1188.jpg']\n",
            "['without_mask_2256.jpg', 'without_mask_588.jpg', 'without_mask_2174.jpg', 'without_mask_570.jpg', 'without_mask_81.jpg']\n"
          ]
        }
      ]
    },
    {
      "cell_type": "code",
      "source": [
        "print('Number of with mask images:', len(with_mask_files))\n",
        "print('Number of without mask images:', len(without_mask_files))"
      ],
      "metadata": {
        "colab": {
          "base_uri": "https://localhost:8080/"
        },
        "id": "o5s8Mk350yqo",
        "outputId": "1a7f8763-739b-49b5-c5c0-8dd04e39077d"
      },
      "execution_count": 5,
      "outputs": [
        {
          "output_type": "stream",
          "name": "stdout",
          "text": [
            "Number of with mask images: 3725\n",
            "Number of without mask images: 3828\n"
          ]
        }
      ]
    },
    {
      "cell_type": "markdown",
      "source": [
        "**Creating Labels for the two class of Images**"
      ],
      "metadata": {
        "id": "fIEifMkE1Vr8"
      }
    },
    {
      "cell_type": "markdown",
      "source": [
        "with mask  -->  1\n",
        "\n",
        "without mask  -->  0"
      ],
      "metadata": {
        "id": "VDqdbJ4I1c9z"
      }
    },
    {
      "cell_type": "code",
      "source": [
        "labels = [1]*3725 + [0]*3828\n",
        "\n",
        "print(len(labels))\n",
        "print(labels[0:5])\n",
        "print(labels[-5:])"
      ],
      "metadata": {
        "colab": {
          "base_uri": "https://localhost:8080/"
        },
        "id": "i7H-OSqA2HZ-",
        "outputId": "ed0a16da-ade1-4e16-b4fd-2215c841f712"
      },
      "execution_count": 6,
      "outputs": [
        {
          "output_type": "stream",
          "name": "stdout",
          "text": [
            "7553\n",
            "[1, 1, 1, 1, 1]\n",
            "[0, 0, 0, 0, 0]\n"
          ]
        }
      ]
    },
    {
      "cell_type": "markdown",
      "source": [
        "**Displaying the Images**"
      ],
      "metadata": {
        "id": "4OZz81JJ2d_r"
      }
    },
    {
      "cell_type": "code",
      "source": [
        "# displaying with mask image\n",
        "img = cv2.imread('/content/data/with_mask/with_mask_100.jpg')\n",
        "cv2_imshow(img)"
      ],
      "metadata": {
        "colab": {
          "base_uri": "https://localhost:8080/",
          "height": 122
        },
        "id": "QI7jBEJ02VQ9",
        "outputId": "62978c54-b57b-46fb-f295-d3c8e03de3e2"
      },
      "execution_count": 7,
      "outputs": [
        {
          "output_type": "display_data",
          "data": {
            "text/plain": [
              "<PIL.Image.Image image mode=RGB size=86x105>"
            ],
            "image/png": "[encoded data removed]"
          },
          "metadata": {}
        }
      ]
    },
    {
      "cell_type": "markdown",
      "source": [
        "**Image Processing**"
      ],
      "metadata": {
        "id": "r6Q8CJBH3V21"
      }
    },
    {
      "cell_type": "markdown",
      "source": [
        "1. Resize the Images\n",
        "\n",
        "2. Convert the images to numpy arrays"
      ],
      "metadata": {
        "id": "faTbplf63ZXB"
      }
    },
    {
      "cell_type": "code",
      "source": [
        "# convert images to numpy arrays+\n",
        "\n",
        "with_mask_path = '/content/data/with_mask/'\n",
        "\n",
        "data = []\n",
        "\n",
        "for img_file in with_mask_files:\n",
        "\n",
        "  image = Image.open(with_mask_path + img_file)\n",
        "  image = image.resize((128,128))\n",
        "  image = image.convert('RGB')\n",
        "  image = np.array(image)\n",
        "  data.append(image)\n",
        "\n",
        "\n",
        "\n",
        "without_mask_path = '/content/data/without_mask/'\n",
        "\n",
        "\n",
        "for img_file in without_mask_files:\n",
        "\n",
        "  image = Image.open(without_mask_path + img_file)\n",
        "  image = image.resize((128,128))\n",
        "  image = image.convert('RGB')\n",
        "  image = np.array(image)\n",
        "  data.append(image)"
      ],
      "metadata": {
        "colab": {
          "base_uri": "https://localhost:8080/"
        },
        "id": "GjR7Vmg73MMj",
        "outputId": "48ac9152-e8df-41e6-8027-6132096e250c"
      },
      "execution_count": 8,
      "outputs": [
        {
          "output_type": "stream",
          "name": "stderr",
          "text": [
            "/usr/local/lib/python3.10/dist-packages/PIL/Image.py:996: UserWarning: Palette images with Transparency expressed in bytes should be converted to RGBA images\n",
            "  warnings.warn(\n"
          ]
        }
      ]
    },
    {
      "cell_type": "code",
      "source": [
        "type(data)"
      ],
      "metadata": {
        "colab": {
          "base_uri": "https://localhost:8080/"
        },
        "id": "kL1ETkSK6Sxu",
        "outputId": "32ce508f-4213-4b5d-da17-b7866d95504d"
      },
      "execution_count": 9,
      "outputs": [
        {
          "output_type": "execute_result",
          "data": {
            "text/plain": [
              "list"
            ]
          },
          "metadata": {},
          "execution_count": 9
        }
      ]
    },
    {
      "cell_type": "code",
      "source": [
        "len(data)"
      ],
      "metadata": {
        "colab": {
          "base_uri": "https://localhost:8080/"
        },
        "id": "dpgz_u2-6eQo",
        "outputId": "7d4bb534-9baa-4c63-d0b2-1e444670a7da"
      },
      "execution_count": 10,
      "outputs": [
        {
          "output_type": "execute_result",
          "data": {
            "text/plain": [
              "7553"
            ]
          },
          "metadata": {},
          "execution_count": 10
        }
      ]
    },
    {
      "cell_type": "code",
      "source": [
        "data[0]"
      ],
      "metadata": {
        "colab": {
          "base_uri": "https://localhost:8080/",
          "height": 169
        },
        "id": "4uD6dF1v6fsg",
        "outputId": "20dd8d9c-1348-45cc-a50b-63e20782c93f"
      },
      "execution_count": 11,
      "outputs": [
        {
          "output_type": "execute_result",
          "data": {
            "text/plain": [
              "array([[[255, 255, 255],\n",
              "        [255, 255, 255],\n",
              "        [255, 255, 255],\n",
              "        ...,\n",
              "        [255, 255, 255],\n",
              "        [255, 255, 255],\n",
              "        [255, 255, 255]],\n",
              "\n",
              "       [[255, 255, 255],\n",
              "        [255, 255, 255],\n",
              "        [255, 255, 255],\n",
              "        ...,\n",
              "        [255, 255, 255],\n",
              "        [255, 255, 255],\n",
              "        [255, 255, 255]],\n",
              "\n",
              "       [[255, 255, 255],\n",
              "        [255, 255, 255],\n",
              "        [255, 255, 255],\n",
              "        ...,\n",
              "        [255, 255, 255],\n",
              "        [255, 255, 255],\n",
              "        [255, 255, 255]],\n",
              "\n",
              "       ...,\n",
              "\n",
              "       [[239, 224, 221],\n",
              "        [242, 224, 218],\n",
              "        [243, 222, 214],\n",
              "        ...,\n",
              "        [255, 255, 255],\n",
              "        [255, 255, 255],\n",
              "        [255, 255, 255]],\n",
              "\n",
              "       [[238, 223, 217],\n",
              "        [239, 222, 215],\n",
              "        [239, 220, 213],\n",
              "        ...,\n",
              "        [255, 255, 255],\n",
              "        [255, 255, 255],\n",
              "        [255, 255, 255]],\n",
              "\n",
              "       [[236, 222, 213],\n",
              "        [237, 223, 214],\n",
              "        [236, 221, 213],\n",
              "        ...,\n",
              "        [255, 255, 255],\n",
              "        [255, 255, 255],\n",
              "        [255, 255, 255]]], dtype=uint8)"
            ],
            "text/html": [
              "<style>\n",
              "      .ndarray_repr .ndarray_raw_data {\n",
              "        display: none;\n",
              "      }\n",
              "      .ndarray_repr.show_array .ndarray_raw_data {\n",
              "        display: block;\n",
              "      }\n",
              "      .ndarray_repr.show_array .ndarray_image_preview {\n",
              "        display: none;\n",
              "      }\n",
              "      </style>\n",
              "      <div id=\"id-33374b69-4fc3-48fd-9d2d-e653b774e377\" class=\"ndarray_repr\"><pre>ndarray (128, 128, 3) <button style=\"padding: 0 2px;\">show data</button></pre><img src=\"data:image/png;base64,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\" class=\"ndarray_image_preview\" /><pre class=\"ndarray_raw_data\">array([[[255, 255, 255],\n",
              "        [255, 255, 255],\n",
              "        [255, 255, 255],\n",
              "        ...,\n",
              "        [255, 255, 255],\n",
              "        [255, 255, 255],\n",
              "        [255, 255, 255]],\n",
              "\n",
              "       [[255, 255, 255],\n",
              "        [255, 255, 255],\n",
              "        [255, 255, 255],\n",
              "        ...,\n",
              "        [255, 255, 255],\n",
              "        [255, 255, 255],\n",
              "        [255, 255, 255]],\n",
              "\n",
              "       [[255, 255, 255],\n",
              "        [255, 255, 255],\n",
              "        [255, 255, 255],\n",
              "        ...,\n",
              "        [255, 255, 255],\n",
              "        [255, 255, 255],\n",
              "        [255, 255, 255]],\n",
              "\n",
              "       ...,\n",
              "\n",
              "       [[239, 224, 221],\n",
              "        [242, 224, 218],\n",
              "        [243, 222, 214],\n",
              "        ...,\n",
              "        [255, 255, 255],\n",
              "        [255, 255, 255],\n",
              "        [255, 255, 255]],\n",
              "\n",
              "       [[238, 223, 217],\n",
              "        [239, 222, 215],\n",
              "        [239, 220, 213],\n",
              "        ...,\n",
              "        [255, 255, 255],\n",
              "        [255, 255, 255],\n",
              "        [255, 255, 255]],\n",
              "\n",
              "       [[236, 222, 213],\n",
              "        [237, 223, 214],\n",
              "        [236, 221, 213],\n",
              "        ...,\n",
              "        [255, 255, 255],\n",
              "        [255, 255, 255],\n",
              "        [255, 255, 255]]], dtype=uint8)</pre></div><script>\n",
              "      (() => {\n",
              "      const titles = ['show data', 'hide data'];\n",
              "      let index = 0\n",
              "      document.querySelector('#id-33374b69-4fc3-48fd-9d2d-e653b774e377 button').onclick = (e) => {\n",
              "        document.querySelector('#id-33374b69-4fc3-48fd-9d2d-e653b774e377').classList.toggle('show_array');\n",
              "        index = (++index) % 2;\n",
              "        document.querySelector('#id-33374b69-4fc3-48fd-9d2d-e653b774e377 button').textContent = titles[index];\n",
              "        e.preventDefault();\n",
              "        e.stopPropagation();\n",
              "      }\n",
              "      })();\n",
              "    </script>"
            ]
          },
          "metadata": {},
          "execution_count": 11
        }
      ]
    },
    {
      "cell_type": "code",
      "source": [
        "type(data[0])"
      ],
      "metadata": {
        "colab": {
          "base_uri": "https://localhost:8080/"
        },
        "id": "HIyzW_yZ6k6m",
        "outputId": "b15aa160-9638-4e25-de30-b92f701dbf9c"
      },
      "execution_count": 12,
      "outputs": [
        {
          "output_type": "execute_result",
          "data": {
            "text/plain": [
              "numpy.ndarray"
            ]
          },
          "metadata": {},
          "execution_count": 12
        }
      ]
    },
    {
      "cell_type": "code",
      "source": [
        "data[0].shape"
      ],
      "metadata": {
        "colab": {
          "base_uri": "https://localhost:8080/"
        },
        "id": "iXoDEYCe6uhn",
        "outputId": "24a0c74d-39ed-485c-ef3b-c7d7de600469"
      },
      "execution_count": 13,
      "outputs": [
        {
          "output_type": "execute_result",
          "data": {
            "text/plain": [
              "(128, 128, 3)"
            ]
          },
          "metadata": {},
          "execution_count": 13
        }
      ]
    },
    {
      "cell_type": "code",
      "source": [
        "# converting image list and label list to numpy arrays\n",
        "\n",
        "X = np.array(data)\n",
        "Y = np.array(labels)"
      ],
      "metadata": {
        "id": "U8pYcWO16xqb"
      },
      "execution_count": 14,
      "outputs": []
    },
    {
      "cell_type": "code",
      "source": [
        "type(X)"
      ],
      "metadata": {
        "colab": {
          "base_uri": "https://localhost:8080/"
        },
        "id": "nOJumzSg7JD4",
        "outputId": "e423a62d-4d4e-41d0-e4f0-aaed61ce96f8"
      },
      "execution_count": 15,
      "outputs": [
        {
          "output_type": "execute_result",
          "data": {
            "text/plain": [
              "numpy.ndarray"
            ]
          },
          "metadata": {},
          "execution_count": 15
        }
      ]
    },
    {
      "cell_type": "code",
      "source": [
        "type(Y)"
      ],
      "metadata": {
        "colab": {
          "base_uri": "https://localhost:8080/"
        },
        "id": "uSvCqSFv7J-7",
        "outputId": "777209ff-0bf7-4343-b8b0-1f405ca165e3"
      },
      "execution_count": 16,
      "outputs": [
        {
          "output_type": "execute_result",
          "data": {
            "text/plain": [
              "numpy.ndarray"
            ]
          },
          "metadata": {},
          "execution_count": 16
        }
      ]
    },
    {
      "cell_type": "code",
      "source": [
        "print(X.shape)\n",
        "print(Y.shape)"
      ],
      "metadata": {
        "colab": {
          "base_uri": "https://localhost:8080/"
        },
        "id": "CFcmRmnx7Ns2",
        "outputId": "e4039a19-4819-46ef-ca70-853ef2abaabd"
      },
      "execution_count": 17,
      "outputs": [
        {
          "output_type": "stream",
          "name": "stdout",
          "text": [
            "(7553, 128, 128, 3)\n",
            "(7553,)\n"
          ]
        }
      ]
    },
    {
      "cell_type": "code",
      "source": [
        "print(Y)"
      ],
      "metadata": {
        "colab": {
          "base_uri": "https://localhost:8080/"
        },
        "id": "LB1Rap2X7R98",
        "outputId": "d013fb70-be0e-4ea0-f35b-8781a6cfb938"
      },
      "execution_count": 18,
      "outputs": [
        {
          "output_type": "stream",
          "name": "stdout",
          "text": [
            "[1 1 1 ... 0 0 0]\n"
          ]
        }
      ]
    },
    {
      "cell_type": "markdown",
      "source": [
        "**Train Test Split**"
      ],
      "metadata": {
        "id": "IZuq8fdc7e9x"
      }
    },
    {
      "cell_type": "code",
      "source": [
        "X_train, X_test, Y_train, Y_test = train_test_split(X, Y, test_size=0.2, random_state=2)"
      ],
      "metadata": {
        "id": "217vrhiO7c20"
      },
      "execution_count": 19,
      "outputs": []
    },
    {
      "cell_type": "code",
      "source": [
        "print(X.shape, X_train.shape, X_test.shape)"
      ],
      "metadata": {
        "colab": {
          "base_uri": "https://localhost:8080/"
        },
        "id": "uCqTqdAB72zJ",
        "outputId": "6037220e-6329-4d3c-f74c-136c58f40881"
      },
      "execution_count": 20,
      "outputs": [
        {
          "output_type": "stream",
          "name": "stdout",
          "text": [
            "(7553, 128, 128, 3) (6042, 128, 128, 3) (1511, 128, 128, 3)\n"
          ]
        }
      ]
    },
    {
      "cell_type": "code",
      "source": [
        "# scaling the data\n",
        "\n",
        "X_train_scaled = X_train/255\n",
        "\n",
        "X_test_scaled = X_test/255"
      ],
      "metadata": {
        "id": "tQ8cYmhL76lZ"
      },
      "execution_count": 21,
      "outputs": []
    },
    {
      "cell_type": "markdown",
      "source": [
        "**Building a Convolutional Neural Networks (CNN)**"
      ],
      "metadata": {
        "id": "L5I-8fUA80iS"
      }
    },
    {
      "cell_type": "code",
      "source": [
        "import tensorflow as tf\n",
        "from tensorflow import keras"
      ],
      "metadata": {
        "id": "P0NZPpoQ8tZm"
      },
      "execution_count": 22,
      "outputs": []
    },
    {
      "cell_type": "code",
      "source": [
        "model = keras.Sequential()\n",
        "\n",
        "model.add(keras.layers.Conv2D(32, kernel_size=(3,3), activation='relu', input_shape=(128,128,3)))\n",
        "model.add(keras.layers.MaxPooling2D(pool_size=(2,2)))\n",
        "\n",
        "\n",
        "model.add(keras.layers.Conv2D(32, kernel_size=(3,3), activation='relu'))\n",
        "model.add(keras.layers.MaxPooling2D(pool_size=(2,2)))\n",
        "\n",
        "model.add(keras.layers.Flatten())\n",
        "\n",
        "model.add(keras.layers.Dense(128, activation='relu'))\n",
        "model.add(keras.layers.Dropout(0.2))\n",
        "model.add(keras.layers.Dense(64, activation='relu'))\n",
        "model.add(keras.layers.Dropout(0.2))\n",
        "model.add(keras.layers.Dense(1, activation='sigmoid'))"
      ],
      "metadata": {
        "id": "OA9eSj2_9EMl"
      },
      "execution_count": 23,
      "outputs": []
    },
    {
      "cell_type": "code",
      "source": [
        "# compile the neural network\n",
        "model.compile(optimizer='adam',\n",
        "              loss='binary_crossentropy',\n",
        "              metrics=['acc'])"
      ],
      "metadata": {
        "id": "8PS9_gb0_1F3"
      },
      "execution_count": 24,
      "outputs": []
    },
    {
      "cell_type": "code",
      "source": [
        "# training the neural network\n",
        "history = model.fit(X_train_scaled, Y_train, validation_split=0.1, epochs=5)"
      ],
      "metadata": {
        "colab": {
          "base_uri": "https://localhost:8080/"
        },
        "id": "gxbjDZaLAFdS",
        "outputId": "35d8f991-7761-45cb-b78d-4ec0a8281aff"
      },
      "execution_count": 25,
      "outputs": [
        {
          "output_type": "stream",
          "name": "stdout",
          "text": [
            "Epoch 1/5\n",
            "170/170 [==============================] - 11s 21ms/step - loss: 0.3692 - acc: 0.8391 - val_loss: 0.3345 - val_acc: 0.8661\n",
            "Epoch 2/5\n",
            "170/170 [==============================] - 3s 16ms/step - loss: 0.2486 - acc: 0.9056 - val_loss: 0.2602 - val_acc: 0.9008\n",
            "Epoch 3/5\n",
            "170/170 [==============================] - 3s 16ms/step - loss: 0.1824 - acc: 0.9283 - val_loss: 0.2487 - val_acc: 0.9074\n",
            "Epoch 4/5\n",
            "170/170 [==============================] - 3s 15ms/step - loss: 0.1319 - acc: 0.9485 - val_loss: 0.2894 - val_acc: 0.9025\n",
            "Epoch 5/5\n",
            "170/170 [==============================] - 3s 16ms/step - loss: 0.0984 - acc: 0.9643 - val_loss: 0.2813 - val_acc: 0.9207\n"
          ]
        }
      ]
    },
    {
      "cell_type": "markdown",
      "source": [
        "**Model Evaluation**"
      ],
      "metadata": {
        "id": "M7FVqeVIAyLK"
      }
    },
    {
      "cell_type": "code",
      "source": [
        "loss, accuracy = model.evaluate(X_test_scaled, Y_test)\n",
        "print('Test Accuracy =', accuracy)"
      ],
      "metadata": {
        "id": "_IXu88q_AVo_",
        "outputId": "78bc5cc5-bc28-497a-deb1-52c5670d6bae",
        "colab": {
          "base_uri": "https://localhost:8080/"
        }
      },
      "execution_count": 26,
      "outputs": [
        {
          "output_type": "stream",
          "name": "stdout",
          "text": [
            "48/48 [==============================] - 1s 10ms/step - loss: 0.2268 - acc: 0.9358\n",
            "Test Accuracy = 0.9358041286468506\n"
          ]
        }
      ]
    },
    {
      "cell_type": "code",
      "source": [
        "h = history\n",
        "\n",
        "# plot the loss value\n",
        "plt.plot(h.history['loss'], label='train loss')\n",
        "plt.plot(h.history['val_loss'], label='validation loss')\n",
        "plt.legend()\n",
        "plt.show()\n",
        "\n",
        "# plot the accuracy value\n",
        "plt.plot(h.history['acc'], label='train accuracy')\n",
        "plt.plot(h.history['val_acc'], label='validation accuracy')\n",
        "plt.legend()\n",
        "plt.show()"
      ],
      "metadata": {
        "id": "Qbk5iRtEA_xZ",
        "outputId": "28e2d40e-f6d6-4a9a-e668-a06ffa65605d",
        "colab": {
          "base_uri": "https://localhost:8080/",
          "height": 843
        }
      },
      "execution_count": 27,
      "outputs": [
        {
          "output_type": "display_data",
          "data": {
            "text/plain": [
              "<Figure size 640x480 with 1 Axes>"
            ],
            "image/png": "[encoded data removed]"
          },
          "metadata": {}
        },
        {
          "output_type": "display_data",
          "data": {
            "text/plain": [
              "<Figure size 640x480 with 1 Axes>"
            ],
            "image/png": "[encoded data removed]"
          },
          "metadata": {}
        }
      ]
    },
    {
      "cell_type": "code",
      "source": [],
      "metadata": {
        "id": "RaFavNQONiEX"
      },
      "execution_count": null,
      "outputs": []
    }
  ]
}